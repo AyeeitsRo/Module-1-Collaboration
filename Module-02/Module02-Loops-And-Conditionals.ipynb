{
 "cells": [
  {
   "cell_type": "markdown",
   "metadata": {},
   "source": [
    "# Module02 - Loops and Conditionals\n",
    "\n",
    "Table of Contents\n",
    "\n",
    "- [4.1](#41---guess-the-number)\n",
    "- [4.2](#42---if-we-match)\n",
    "- [6.1](#61---for-loop-to-print-number-3-to-0)\n",
    "- [6.2](#62---while-loop-to-guess-a-predetermined-number)\n",
    "- [6.3](#63---for-loop-to-guess-a-predetermined-number-within-a-range)"
   ]
  },
  {
   "cell_type": "markdown",
   "metadata": {},
   "source": [
    "## 4.1 - Guess the Number"
   ]
  },
  {
   "cell_type": "code",
   "execution_count": 18,
   "metadata": {},
   "outputs": [
    {
     "name": "stdout",
     "output_type": "stream",
     "text": [
      "Please enter a number between 1 and 10\n",
      "Please enter a number between 1 and 10\n",
      "You guessed it! The secret number was 3\n"
     ]
    }
   ],
   "source": [
    "secret: int = 3\n",
    "guess: str = input('Guess the secret number between 1 and 10: ')\n",
    "guess: int = int(guess)\n",
    "\n",
    "while (guess != secret) and (guess != 0):\n",
    "    guess: str = input('Guess the secret number between 1 and 10: ')\n",
    "    guess: int = int(guess)\n",
    "    if guess > 10 or guess < 1:\n",
    "        print('Please enter a number between 1 and 10')\n",
    "        \n",
    "    else:\n",
    "        if secret > guess:\n",
    "            print('Too low!')\n",
    "        elif secret < guess:\n",
    "            print('Too high!')\n",
    "        guess: str = input('Guess the secret number between 1 and 10: ')\n",
    "        guess: int = int(guess)\n",
    "\n",
    "if guess == secret:\n",
    "    print('You guessed it! The secret number was', secret)\n",
    "else:\n",
    "    print('Sorry you had to go.')\n",
    "\n"
   ]
  },
  {
   "cell_type": "markdown",
   "metadata": {},
   "source": [
    "## 4.2 - If We Match"
   ]
  },
  {
   "cell_type": "code",
   "execution_count": 3,
   "metadata": {},
   "outputs": [
    {
     "name": "stdout",
     "output_type": "stream",
     "text": [
      "Pea\n"
     ]
    }
   ],
   "source": [
    "small: bool = True\n",
    "green: bool = True\n",
    "\n",
    "if small:\n",
    "    if green:\n",
    "        print('Pea')\n",
    "    else:\n",
    "        print('Cherry')\n",
    "else:\n",
    "    if green:\n",
    "        print('Watermelon')\n",
    "    else:\n",
    "        print('Pumpkin')"
   ]
  },
  {
   "cell_type": "markdown",
   "metadata": {},
   "source": [
    "## 6.1 - For Loop to Print Number 3 to 0"
   ]
  },
  {
   "cell_type": "code",
   "execution_count": 12,
   "metadata": {},
   "outputs": [
    {
     "name": "stdout",
     "output_type": "stream",
     "text": [
      "3\n",
      "2\n",
      "1\n",
      "0\n"
     ]
    }
   ],
   "source": [
    "numbers: int = [3, 2, 1, 0]\n",
    "for i in numbers:\n",
    "    print(i)"
   ]
  },
  {
   "cell_type": "markdown",
   "metadata": {},
   "source": [
    "## 6.2 - While Loop to Guess a Predetermined Number"
   ]
  },
  {
   "cell_type": "code",
   "execution_count": 13,
   "metadata": {},
   "outputs": [
    {
     "name": "stdout",
     "output_type": "stream",
     "text": [
      "too low\n",
      "too low\n",
      "too low\n",
      "too low\n",
      "too low\n",
      "too low\n",
      "found it!\n"
     ]
    }
   ],
   "source": [
    "guess_me: int = 7\n",
    "number: int = 1\n",
    "while True:\n",
    "    if number < guess_me:\n",
    "        print('too low')\n",
    "    elif number == guess_me:\n",
    "        print('found it!')\n",
    "        break\n",
    "    else:\n",
    "        print('oops')\n",
    "        break\n",
    "    number += 1"
   ]
  },
  {
   "cell_type": "markdown",
   "metadata": {},
   "source": [
    "## 6.3 - For Loop to Guess a Predetermined Number Within a Range"
   ]
  },
  {
   "cell_type": "code",
   "execution_count": 14,
   "metadata": {},
   "outputs": [
    {
     "name": "stdout",
     "output_type": "stream",
     "text": [
      "too low\n",
      "too low\n",
      "too low\n",
      "too low\n",
      "too low\n",
      "found it!\n"
     ]
    }
   ],
   "source": [
    "guess_me: int = 5\n",
    "for number in range(10):\n",
    "    if number < guess_me:\n",
    "        print('too low')\n",
    "    elif number == guess_me:\n",
    "        print('found it!')\n",
    "        break\n",
    "    elif number > guess_me:\n",
    "        print('oops')\n",
    "        break"
   ]
  }
 ],
 "metadata": {
  "kernelspec": {
   "display_name": "Python 3",
   "language": "python",
   "name": "python3"
  },
  "language_info": {
   "codemirror_mode": {
    "name": "ipython",
    "version": 3
   },
   "file_extension": ".py",
   "mimetype": "text/x-python",
   "name": "python",
   "nbconvert_exporter": "python",
   "pygments_lexer": "ipython3",
   "version": "3.13.0"
  }
 },
 "nbformat": 4,
 "nbformat_minor": 2
}
