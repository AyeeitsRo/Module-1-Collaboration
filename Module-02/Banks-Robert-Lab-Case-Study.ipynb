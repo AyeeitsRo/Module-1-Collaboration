{
 "cells": [
  {
   "cell_type": "markdown",
   "metadata": {},
   "source": [
    "# M02 - Case Study: if...else and while\n",
    "### Robert Banks\n",
    ">*Banks-Robert-Lab-Case-Study.ipynb*\n",
    "\n",
    "This app will accept a student's name and GPA then test if the student qualifies for either the Dean's List or Honor Roll.\n",
    "\n",
    "- "
   ]
  },
  {
   "cell_type": "markdown",
   "metadata": {},
   "source": [
    "## Code"
   ]
  },
  {
   "cell_type": "code",
   "execution_count": null,
   "metadata": {
    "vscode": {
     "languageId": "plaintext"
    }
   },
   "outputs": [],
   "source": []
  }
 ],
 "metadata": {
  "language_info": {
   "name": "python"
  }
 },
 "nbformat": 4,
 "nbformat_minor": 2
}
